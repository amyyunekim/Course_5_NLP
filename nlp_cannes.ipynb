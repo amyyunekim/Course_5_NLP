{
 "cells": [
  {
   "cell_type": "code",
   "execution_count": 1,
   "metadata": {},
   "outputs": [],
   "source": [
    "import pandas as pd"
   ]
  },
  {
   "cell_type": "code",
   "execution_count": 5,
   "metadata": {},
   "outputs": [],
   "source": [
    "df = pd.read_csv('data/CannesFilmFestival_tweets.csv')\n",
    "english_tweets=df[df['language']=='en']['tweet']"
   ]
  },
  {
   "cell_type": "code",
   "execution_count": 6,
   "metadata": {},
   "outputs": [
    {
     "data": {
      "text/plain": [
       "0        Can’t wait for see actress lee jieun #Broker #...\n",
       "1        #PaRanjithInCannes #CannesFilmFestival2022  Co...\n",
       "3        Can't wait #leejieun #IU at #Cannes2022 with #...\n",
       "11       @TonightsEntert3 Thank you for this article! W...\n",
       "13       broker next.  #IU #아이유 #이지은 #LeeJieun  #Broker...\n",
       "                               ...                        \n",
       "72592    Oh my girl! #CannesFilmFestival2022  https://t...\n",
       "72593    Who are the sexiest dressed stars at #Cannes o...\n",
       "72594    ‘Top Gun: Maverick’ #Cannes2022 Film Festival ...\n",
       "72596    My vlog from Day Three of #Cannes #Cannes2022 ...\n",
       "72597    #Zelenskyy at #CannesFilmFestival2022: \"The wo...\n",
       "Name: tweet, Length: 34479, dtype: object"
      ]
     },
     "execution_count": 6,
     "metadata": {},
     "output_type": "execute_result"
    }
   ],
   "source": [
    "english_tweets"
   ]
  },
  {
   "cell_type": "code",
   "execution_count": null,
   "metadata": {},
   "outputs": [],
   "source": []
  }
 ],
 "metadata": {
  "interpreter": {
   "hash": "dcd6626d957394c7dea2ac0b006e5a4a810b6a7bdda5fbf424daa58b16b6114d"
  },
  "kernelspec": {
   "display_name": "Python 3.8.13 ('unsupervised')",
   "language": "python",
   "name": "python3"
  },
  "language_info": {
   "codemirror_mode": {
    "name": "ipython",
    "version": 3
   },
   "file_extension": ".py",
   "mimetype": "text/x-python",
   "name": "python",
   "nbconvert_exporter": "python",
   "pygments_lexer": "ipython3",
   "version": "3.8.13"
  },
  "orig_nbformat": 4
 },
 "nbformat": 4,
 "nbformat_minor": 2
}
